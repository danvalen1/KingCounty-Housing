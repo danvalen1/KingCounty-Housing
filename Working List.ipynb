{
 "cells": [
  {
   "cell_type": "markdown",
   "metadata": {},
   "source": [
    "# Work Outline\n",
    "\n",
    "## Problem and Questions\n",
    "Helping King County housing authorities understand the current structure of the market and how that may affect important features of affordable housing.\n",
    "\n",
    "Overall goal: reduce housing prices\n",
    "- Data Q: What's the relationship between `bedroomsNumber` and `pricePrice`?\n",
    "    - Business Q: How does housing market prices incentivize or disincentivize the inclusion of more bedrooms?\n",
    "    - Important becase want to understand how many people you can have in a home.\n",
    "- Data Q: What's the relationship between `sqft_lotsquare` and `pricePrice`?\n",
    "    - Business Q: Can we make housing more dense?\n",
    "    - Important because you want to better understand how variables that affect density affect price.\n",
    "- Data Q: What's the relationship between `grade` and `pricePrice`?\n",
    "    - Business Q: Does King County's housing rating system affect prices, and if so, what should we do about it?\n",
    "    - Important to understand if King County's own market-adjacent infrastructure may affect affordable housing.\n",
    "    \n",
    "**IGNORE** following variables/questions\n",
    "- date\n",
    "- view\n",
    "- sqft_above\n",
    "- sqft_basement\n",
    "- yr_renovated\n",
    "- zipcode\n",
    "- lat\n",
    "- long\n",
    "- sqft_living15\n",
    "- sqft_lot15\n"
   ]
  },
  {
   "cell_type": "markdown",
   "metadata": {},
   "source": [
    "## EDA\n",
    "\n",
    "By **Monday morning** Eon and Dan will have performed their own cleaning and of the 4 varibles above + `id`. Dan will have started outline of Notebook.\n",
    "- AAB: all variables cleaned by Monday morning"
   ]
  },
  {
   "cell_type": "code",
   "execution_count": null,
   "metadata": {},
   "outputs": [],
   "source": []
  }
 ],
 "metadata": {
  "kernelspec": {
   "display_name": "learn-env",
   "language": "python",
   "name": "learn-env"
  },
  "language_info": {
   "codemirror_mode": {
    "name": "ipython",
    "version": 3
   },
   "file_extension": ".py",
   "mimetype": "text/x-python",
   "name": "python",
   "nbconvert_exporter": "python",
   "pygments_lexer": "ipython3",
   "version": "3.6.10"
  }
 },
 "nbformat": 4,
 "nbformat_minor": 4
}
