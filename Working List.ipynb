{
 "cells": [
  {
   "cell_type": "markdown",
   "metadata": {},
   "source": [
    "# Work Outline\n",
    "\n",
    "## Problem and Questions\n",
    "Helping King County housing authorities understand the current structure of the market and how that may affect important features of affordable housing.\n",
    "\n",
    "Overall goal: reduce housing prices\n",
    "- Data Q: What's the relationship between `bedroomsNumber` and `pricePrice`?\n",
    "    - Business Q: How does housing market prices incentivize or disincentivize the inclusion of more bedrooms?\n",
    "    - Important becase want to understand how many people you can have in a home.\n",
    "- Data Q: What's the relationship between `sqft_lotsquare` and `pricePrice`?\n",
    "    - Business Q: Can we make housing more dense?\n",
    "    - Important because you want to better understand how variables that affect density affect price.\n",
    "- Data Q: What's the relationship between `grade` and `pricePrice`?\n",
    "    - Business Q: Does King County's housing rating system affect prices, and if so, what should we do about it?\n",
    "    - Important to understand if King County's own market-adjacent infrastructure may affect affordable housing.\n",
    "    \n",
    "- Data Q: Is it possible to quantify QOL comapred to price (e.g., construct a variable of `condition` over `sqftlving`)?\n",
    "    - Business Q: Can you improve quality of life for Section 8 type programs? \n",
    "    \n",
    "- Data Q: Can you construct a variable showing the proportion of lower priced houwing to higher priced housing in a zip code?\n",
    "    - Business Q: Which geographic areas (i.e. `zipcode`) have the most mixed-price housing?\n",
    "    \n",
    "**IGNORE** following variables/questions\n",
    "- date\n",
    "- view\n",
    "- sqft_above\n",
    "- sqft_basement\n",
    "- yr_renovated\n",
    "- zipcode\n",
    "- lat\n",
    "- long\n",
    "- sqft_living15\n",
    "- sqft_lot15\n"
   ]
  },
  {
   "cell_type": "markdown",
   "metadata": {},
   "source": [
    "## EDA\n",
    "\n",
    "By **Monday morning** Eon and Dan will have performed their visualizations/examinations of data file,  ignoring variables above. Dan will have started outline of Notebook.\n",
    "\n",
    "Questions we should answer:\n",
    "- **Three questions the King County Housing authority would want to answer and which data would answer them?**\n",
    "- How much data is there?\n",
    "- For each variable:\n",
    "    - How many NaNs?\n",
    "    - What is their type?\n",
    "    - Descriptive statisics?\n",
    "    - How would they need to be cleaned if they are included?\n",
    "- Which continuous variable need binning?\n",
    "- Which categorical variable needs to be transformed?\n",
    "- What new features/variables need to be created?\n"
   ]
  },
  {
   "cell_type": "markdown",
   "metadata": {},
   "source": [
    "## MVP\n"
   ]
  },
  {
   "cell_type": "markdown",
   "metadata": {},
   "source": [
    "Price predicted by:\n",
    "- QOL metric (MVP: `condition`/`sqftliving`)\n",
    "- Proportion of mixed-price housing in a zipcode (MVP: ratio of number of 50% housing to 99% housing for each ZIP)\n",
    "- Density of house (MVP: `bedrooms`/`sqft_lotsquare`)"
   ]
  },
  {
   "cell_type": "markdown",
   "metadata": {},
   "source": [
    "### MVP Work Outline"
   ]
  },
  {
   "cell_type": "markdown",
   "metadata": {},
   "source": [
    "QOL Metric\n",
    "- Lead: Eon\n",
    "- Tasks: \n",
    "\n",
    "Density of House\n",
    "- Lead: Eon\n",
    "- Tasks: \n",
    "\n",
    "Proportion of mixed price-housing AAB\n",
    "- Lead: Dan\n",
    "- Method:\n",
    "    - 1st: What is metric of proportions of mixed price per zipcode?\n",
    "        - How do you bin housing price?\n",
    "    - 2nd: How do I apply each metric to every listing?\n",
    "    - 3rd: How does that look like against price? \n",
    "    \n",
    "- Maybe find other metrics?\n",
    "    \n",
    "LinReg Function\n",
    "- Lead: Dan\n",
    "- Create wrapper funciton that will create our linear regression"
   ]
  },
  {
   "cell_type": "markdown",
   "metadata": {},
   "source": [
    "Assumptions about AFFORDABLE housing"
   ]
  },
  {
   "cell_type": "markdown",
   "metadata": {},
   "source": [
    "- Find income distribution in King Country\n",
    "- Make another column about what what income level could support this housing price\n",
    "- Be more specific about question we should be able to answer"
   ]
  },
  {
   "cell_type": "markdown",
   "metadata": {},
   "source": [
    "1. **Linear regression of price v. condition and bedrooms**\n",
    "2. Price"
   ]
  },
  {
   "cell_type": "markdown",
   "metadata": {},
   "source": [
    "# Workflow\n",
    "For Wednesday\n",
    "1. Eon adjusts Space_x_grade through either transforming or binning the variables\n",
    "2. Dan adjusting sqft_lot rhough binning because of high variability in high desnity housing\n",
    "3. Eon working on heterosk. on `bedrooms`\n",
    "4. Dan working on transforming/adjustin `price` to better account for actual cost\n",
    "5. Dan writes up data understanding and preparation.\n",
    "6. Dan/Eon re-run visualizations after transforming of variables.\n",
    "7. Eon writes up evaluation of models/analysis.\n",
    "\n",
    "For Thursday\n",
    "8. Eon works on presentation\n",
    "9. Dan works on notebook/readme with conclusions and next steps\n"
   ]
  },
  {
   "cell_type": "code",
   "execution_count": null,
   "metadata": {},
   "outputs": [],
   "source": []
  }
 ],
 "metadata": {
  "kernelspec": {
   "display_name": "learn-env",
   "language": "python",
   "name": "learn-env"
  },
  "language_info": {
   "codemirror_mode": {
    "name": "ipython",
    "version": 3
   },
   "file_extension": ".py",
   "mimetype": "text/x-python",
   "name": "python",
   "nbconvert_exporter": "python",
   "pygments_lexer": "ipython3",
   "version": "3.6.10"
  }
 },
 "nbformat": 4,
 "nbformat_minor": 4
}
